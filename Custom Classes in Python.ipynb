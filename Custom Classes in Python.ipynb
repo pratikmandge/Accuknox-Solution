{
 "cells": [
  {
   "cell_type": "markdown",
   "metadata": {},
   "source": [
    "# Rectangle Class in Python\n",
    "\n",
    "## Requirements\n",
    "\n",
    "We need to create a `Rectangle` class with the following requirements:\n",
    "\n",
    "1. An instance of the `Rectangle` class requires `length: int` and `width: int` to be initialized.\n",
    "2. We should be able to iterate over an instance of the `Rectangle` class.\n",
    "3. When iterating over an instance of the `Rectangle` class, the iteration should yield the length first in the format `{'length': <VALUE_OF_LENGTH>}` followed by the width in the format `{'width': <VALUE_OF_WIDTH>}`.\n",
    "\n",
    "## Implementation\n",
    "\n",
    "Below is the implementation of the `Rectangle` class that meets these requirements."
   ]
  },
  {
   "cell_type": "code",
   "execution_count": 1,
   "metadata": {},
   "outputs": [
    {
     "name": "stdout",
     "output_type": "stream",
     "text": [
      "{'length': 10}\n",
      "{'width': 5}\n"
     ]
    }
   ],
   "source": [
    "class Rectangle:\n",
    "    def __init__(self, length: int, width: int):\n",
    "        self.length = length\n",
    "        self.width = width\n",
    "\n",
    "    def __iter__(self):\n",
    "        yield {'length': self.length}\n",
    "        yield {'width': self.width}\n",
    "\n",
    "rect = Rectangle(10, 5)\n",
    "\n",
    "for item in rect:\n",
    "    print(item)"
   ]
  }
 ],
 "metadata": {
  "kernelspec": {
   "display_name": "Python 3",
   "language": "python",
   "name": "python3"
  },
  "language_info": {
   "codemirror_mode": {
    "name": "ipython",
    "version": 3
   },
   "file_extension": ".py",
   "mimetype": "text/x-python",
   "name": "python",
   "nbconvert_exporter": "python",
   "pygments_lexer": "ipython3",
   "version": "3.12.4"
  }
 },
 "nbformat": 4,
 "nbformat_minor": 2
}
